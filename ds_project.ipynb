{
  "nbformat": 4,
  "nbformat_minor": 0,
  "metadata": {
    "colab": {
      "provenance": [],
      "authorship_tag": "ABX9TyN52YEH+drMdecRQyKJ1brX",
      "include_colab_link": true
    },
    "kernelspec": {
      "name": "python3",
      "display_name": "Python 3"
    },
    "language_info": {
      "name": "python"
    }
  },
  "cells": [
    {
      "cell_type": "markdown",
      "metadata": {
        "id": "view-in-github",
        "colab_type": "text"
      },
      "source": [
        "<a href=\"https://colab.research.google.com/github/pxs1990/DS_projects/blob/main/ds_project.ipynb\" target=\"_parent\"><img src=\"https://colab.research.google.com/assets/colab-badge.svg\" alt=\"Open In Colab\"/></a>"
      ]
    },
    {
      "cell_type": "code",
      "execution_count": null,
      "metadata": {
        "id": "wD0KA9mAQJVs"
      },
      "outputs": [],
      "source": [
        "import numpy as np\n",
        "l=np.arange(9)\n",
        "print(l)\n",
        "l1=l[l<4]\n",
        "print(l1)"
      ]
    },
    {
      "cell_type": "code",
      "source": [
        "import pandas as pd\n",
        "print(pd.__version__)"
      ],
      "metadata": {
        "id": "V9wxXnw9Sv2S"
      },
      "execution_count": null,
      "outputs": []
    },
    {
      "cell_type": "code",
      "source": [
        "sr=pd.Series({'A':9,'B':8,'C':7})\n",
        "print(sr)"
      ],
      "metadata": {
        "id": "TgxH0Ro4Sy_o"
      },
      "execution_count": null,
      "outputs": []
    },
    {
      "cell_type": "code",
      "source": [
        "sr.values"
      ],
      "metadata": {
        "id": "1QH0v-0uS3GF"
      },
      "execution_count": null,
      "outputs": []
    },
    {
      "cell_type": "code",
      "source": [
        "sr.index"
      ],
      "metadata": {
        "id": "1UHQ9ayiS4tz"
      },
      "execution_count": null,
      "outputs": []
    },
    {
      "cell_type": "code",
      "source": [
        "sr1=pd.Series({'A':9,'B':8,'C':7})\n",
        "sr2=pd.Series({'C':9,'D':8,'E':7})\n",
        "DF=pd.DataFrame([{'A':9,'B':8,'C':7},{'C':9,'D':8,'E':7}])\n",
        "DF.dropna( )"
      ],
      "metadata": {
        "id": "I5XXinQXS7xp"
      },
      "execution_count": null,
      "outputs": []
    },
    {
      "cell_type": "code",
      "source": [
        "#Make a dict with students id: list of marks, then make another dict with id: avg marks.\n",
        "from ast import While\n",
        "def getUserData():\n",
        "  D={}\n",
        "  while True:\n",
        "    id=input(\"Enter the student id: \")\n",
        "    marks=input(\"Enter the markd seperated by comma: \")\n",
        "    wannaExit=input(\"Want to exit: yes/no\")\n",
        "    if id in D:\n",
        "      print(\"id already exists.\")\n",
        "    else:\n",
        "      Lmarks=marks.split(\",\")\n",
        "      D[id]=Lmarks\n",
        "    if wannaExit.lower()==\"yes\":\n",
        "      return D"
      ],
      "metadata": {
        "id": "PRaaNfG0yD7A"
      },
      "execution_count": null,
      "outputs": []
    },
    {
      "cell_type": "code",
      "source": [
        "def getAvgD(D):\n",
        "  AvgD={}\n",
        "  for k in D:\n",
        "    L=D[k]\n",
        "    s=0\n",
        "    for i in L:\n",
        "      s+=int(i)\n",
        "    av=s/len(L)\n",
        "    AvgD[k]=av\n",
        "  return AvgD"
      ],
      "metadata": {
        "id": "8LVj7v-LyQHh"
      },
      "execution_count": null,
      "outputs": []
    },
    {
      "cell_type": "code",
      "source": [
        "D1=getUserData()"
      ],
      "metadata": {
        "id": "R_LuTdQyyKaq"
      },
      "execution_count": null,
      "outputs": []
    }
  ]
}