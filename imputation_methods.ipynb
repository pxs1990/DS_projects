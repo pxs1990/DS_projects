{
  "nbformat": 4,
  "nbformat_minor": 0,
  "metadata": {
    "colab": {
      "provenance": [],
      "authorship_tag": "ABX9TyPTfbJTEu1m3WkuoVeY2YUl"
    },
    "kernelspec": {
      "name": "python3",
      "display_name": "Python 3"
    },
    "language_info": {
      "name": "python"
    }
  },
  "cells": [
    {
      "cell_type": "code",
      "source": [
        "import pandas as pd\n",
        "import numpy as np\n",
        "from sklearn.impute import KNNImputer\n"
      ],
      "metadata": {
        "id": "E3ZuY2l1k3RB"
      },
      "execution_count": 4,
      "outputs": []
    },
    {
      "cell_type": "code",
      "execution_count": 2,
      "metadata": {
        "colab": {
          "base_uri": "https://localhost:8080/"
        },
        "id": "67pN83Hvh4gd",
        "outputId": "a0dd1347-9aa3-4707-9093-5eada71194fc"
      },
      "outputs": [
        {
          "output_type": "stream",
          "name": "stdout",
          "text": [
            "      Name Gender   Age         Occupation\n",
            "0     John      M  25.0           Engineer\n",
            "1    Alice    NaN  30.0            Teacher\n",
            "2  Michael      M  40.0             Doctor\n",
            "3     Emma      F   NaN              Nurse\n",
            "4      NaN      M  28.0  Software Engineer\n",
            "5   Sophia      F  32.0                NaN\n",
            "6    James      M   NaN             Lawyer\n",
            "7      NaN      F  27.0             Writer\n",
            "8  William      M  38.0            Manager\n",
            "9    Emily      F  29.0              Nurse\n"
          ]
        }
      ],
      "source": [
        "\n",
        "# Define the data for the DataFrame with NaN values\n",
        "data = {\n",
        "    'Name': ['John', 'Alice', 'Michael', 'Emma', np.nan, 'Sophia', 'James', np.nan, 'William', 'Emily'],\n",
        "    'Gender': ['M', np.nan, 'M', 'F', 'M', 'F', 'M', 'F', 'M', 'F'],\n",
        "    'Age': [25, 30, 40, np.nan, 28, 32, np.nan, 27, 38, 29],\n",
        "    'Occupation': ['Engineer', 'Teacher', 'Doctor', 'Nurse', 'Software Engineer', np.nan, 'Lawyer', 'Writer', 'Manager', 'Nurse']\n",
        "}\n",
        "\n",
        "# Create DataFrame from the dictionary\n",
        "df = pd.DataFrame(data)\n",
        "\n",
        "print(df)\n"
      ]
    },
    {
      "cell_type": "code",
      "source": [
        "df.dtypes"
      ],
      "metadata": {
        "colab": {
          "base_uri": "https://localhost:8080/"
        },
        "id": "RCrc7dkLlePm",
        "outputId": "51995102-0a46-4b52-c1db-ecfa3c172b6b"
      },
      "execution_count": 5,
      "outputs": [
        {
          "output_type": "execute_result",
          "data": {
            "text/plain": [
              "Name           object\n",
              "Gender         object\n",
              "Age           float64\n",
              "Occupation     object\n",
              "dtype: object"
            ]
          },
          "metadata": {},
          "execution_count": 5
        }
      ]
    },
    {
      "cell_type": "code",
      "source": [
        "# Mean imputation for num col\n",
        "df_mean = df.fillna(df.mean())\n",
        "\n",
        "# Median imputation for num col\n",
        "df_median = df.fillna(df.median())\n",
        "\n",
        "# Mode imputation\n",
        "df_mode = df.fillna(df.mode().iloc[0])\n",
        "\n",
        "# Constant imputation\n",
        "df_constant = df.fillna(0)\n",
        "\n",
        "# Forward fill (ffill)\n",
        "df_ffill = df.ffill()\n",
        "\n",
        "# Backward fill (bfill)\n",
        "df_bfill = df.bfill()\n",
        "\n",
        "# Linear interpolation(guessing from prev and next point) for num col\n",
        "df_interpolated = df.interpolate(method='linear')\n",
        "\n",
        "# Hot-deck imputation (using forward fill for simplicity)\n",
        "df_hot_deck = df.fillna(method='ffill')# values selected on similarity on features.\n",
        "\n",
        "#KNN imputation (only include num as we need to measure distance betn samples)\n",
        "imputer = KNNImputer(n_neighbors=2)\n",
        "df_knn_imputed = pd.DataFrame(imputer.fit_transform(df.select_dtypes(include=np.number)), columns=df.select_dtypes(include=np.number).columns)\n",
        "\n",
        "# Display the imputed DataFrames\n",
        "print(\"Mean Imputation:\\n\", df_mean)\n",
        "print(\"\\nMedian Imputation:\\n\", df_median)\n",
        "print(\"\\nMode Imputation:\\n\", df_mode)\n",
        "print(\"\\nConstant Imputation:\\n\", df_constant)\n",
        "print(\"\\nForward Fill (ffill):\\n\", df_ffill)\n",
        "print(\"\\nBackward Fill (bfill):\\n\", df_bfill)\n",
        "print(\"\\nLinear Interpolation:\\n\", df_interpolated)\n",
        "print(\"\\nHot-deck Imputation:\\n\", df_hot_deck)\n",
        "print(\"\\nKNN Imputation:\\n\", df_knn_imputed)\n"
      ],
      "metadata": {
        "colab": {
          "base_uri": "https://localhost:8080/"
        },
        "id": "BJs14HwFjs8j",
        "outputId": "7edd62a0-3809-4e68-f002-b7e7fa182bed"
      },
      "execution_count": 6,
      "outputs": [
        {
          "output_type": "stream",
          "name": "stdout",
          "text": [
            "Mean Imputation:\n",
            "       Name Gender     Age         Occupation\n",
            "0     John      M  25.000           Engineer\n",
            "1    Alice    NaN  30.000            Teacher\n",
            "2  Michael      M  40.000             Doctor\n",
            "3     Emma      F  31.125              Nurse\n",
            "4      NaN      M  28.000  Software Engineer\n",
            "5   Sophia      F  32.000                NaN\n",
            "6    James      M  31.125             Lawyer\n",
            "7      NaN      F  27.000             Writer\n",
            "8  William      M  38.000            Manager\n",
            "9    Emily      F  29.000              Nurse\n",
            "\n",
            "Median Imputation:\n",
            "       Name Gender   Age         Occupation\n",
            "0     John      M  25.0           Engineer\n",
            "1    Alice    NaN  30.0            Teacher\n",
            "2  Michael      M  40.0             Doctor\n",
            "3     Emma      F  29.5              Nurse\n",
            "4      NaN      M  28.0  Software Engineer\n",
            "5   Sophia      F  32.0                NaN\n",
            "6    James      M  29.5             Lawyer\n",
            "7      NaN      F  27.0             Writer\n",
            "8  William      M  38.0            Manager\n",
            "9    Emily      F  29.0              Nurse\n",
            "\n",
            "Mode Imputation:\n",
            "       Name Gender   Age         Occupation\n",
            "0     John      M  25.0           Engineer\n",
            "1    Alice      M  30.0            Teacher\n",
            "2  Michael      M  40.0             Doctor\n",
            "3     Emma      F  25.0              Nurse\n",
            "4    Alice      M  28.0  Software Engineer\n",
            "5   Sophia      F  32.0              Nurse\n",
            "6    James      M  25.0             Lawyer\n",
            "7    Alice      F  27.0             Writer\n",
            "8  William      M  38.0            Manager\n",
            "9    Emily      F  29.0              Nurse\n",
            "\n",
            "Constant Imputation:\n",
            "       Name Gender   Age         Occupation\n",
            "0     John      M  25.0           Engineer\n",
            "1    Alice      0  30.0            Teacher\n",
            "2  Michael      M  40.0             Doctor\n",
            "3     Emma      F   0.0              Nurse\n",
            "4        0      M  28.0  Software Engineer\n",
            "5   Sophia      F  32.0                  0\n",
            "6    James      M   0.0             Lawyer\n",
            "7        0      F  27.0             Writer\n",
            "8  William      M  38.0            Manager\n",
            "9    Emily      F  29.0              Nurse\n",
            "\n",
            "Forward Fill (ffill):\n",
            "       Name Gender   Age         Occupation\n",
            "0     John      M  25.0           Engineer\n",
            "1    Alice      M  30.0            Teacher\n",
            "2  Michael      M  40.0             Doctor\n",
            "3     Emma      F  40.0              Nurse\n",
            "4     Emma      M  28.0  Software Engineer\n",
            "5   Sophia      F  32.0  Software Engineer\n",
            "6    James      M  32.0             Lawyer\n",
            "7    James      F  27.0             Writer\n",
            "8  William      M  38.0            Manager\n",
            "9    Emily      F  29.0              Nurse\n",
            "\n",
            "Backward Fill (bfill):\n",
            "       Name Gender   Age         Occupation\n",
            "0     John      M  25.0           Engineer\n",
            "1    Alice      M  30.0            Teacher\n",
            "2  Michael      M  40.0             Doctor\n",
            "3     Emma      F  28.0              Nurse\n",
            "4   Sophia      M  28.0  Software Engineer\n",
            "5   Sophia      F  32.0             Lawyer\n",
            "6    James      M  27.0             Lawyer\n",
            "7  William      F  27.0             Writer\n",
            "8  William      M  38.0            Manager\n",
            "9    Emily      F  29.0              Nurse\n",
            "\n",
            "Linear Interpolation:\n",
            "       Name Gender   Age         Occupation\n",
            "0     John      M  25.0           Engineer\n",
            "1    Alice    NaN  30.0            Teacher\n",
            "2  Michael      M  40.0             Doctor\n",
            "3     Emma      F  34.0              Nurse\n",
            "4      NaN      M  28.0  Software Engineer\n",
            "5   Sophia      F  32.0                NaN\n",
            "6    James      M  29.5             Lawyer\n",
            "7      NaN      F  27.0             Writer\n",
            "8  William      M  38.0            Manager\n",
            "9    Emily      F  29.0              Nurse\n",
            "\n",
            "Hot-deck Imputation:\n",
            "       Name Gender   Age         Occupation\n",
            "0     John      M  25.0           Engineer\n",
            "1    Alice      M  30.0            Teacher\n",
            "2  Michael      M  40.0             Doctor\n",
            "3     Emma      F  40.0              Nurse\n",
            "4     Emma      M  28.0  Software Engineer\n",
            "5   Sophia      F  32.0  Software Engineer\n",
            "6    James      M  32.0             Lawyer\n",
            "7    James      F  27.0             Writer\n",
            "8  William      M  38.0            Manager\n",
            "9    Emily      F  29.0              Nurse\n",
            "\n",
            "KNN Imputation:\n",
            "       Age\n",
            "0  25.000\n",
            "1  30.000\n",
            "2  40.000\n",
            "3  31.125\n",
            "4  28.000\n",
            "5  32.000\n",
            "6  31.125\n",
            "7  27.000\n",
            "8  38.000\n",
            "9  29.000\n"
          ]
        },
        {
          "output_type": "stream",
          "name": "stderr",
          "text": [
            "<ipython-input-6-97b07412d6dd>:2: FutureWarning: The default value of numeric_only in DataFrame.mean is deprecated. In a future version, it will default to False. In addition, specifying 'numeric_only=None' is deprecated. Select only valid columns or specify the value of numeric_only to silence this warning.\n",
            "  df_mean = df.fillna(df.mean())\n",
            "<ipython-input-6-97b07412d6dd>:5: FutureWarning: The default value of numeric_only in DataFrame.median is deprecated. In a future version, it will default to False. In addition, specifying 'numeric_only=None' is deprecated. Select only valid columns or specify the value of numeric_only to silence this warning.\n",
            "  df_median = df.fillna(df.median())\n"
          ]
        }
      ]
    }
  ]
}